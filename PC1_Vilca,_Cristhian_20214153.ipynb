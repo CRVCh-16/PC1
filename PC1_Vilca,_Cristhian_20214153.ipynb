{
 "cells": [
  {
   "cell_type": "markdown",
   "metadata": {
    "id": "O2f27oVNj3iM"
   },
   "source": [
    "## Read the data\n",
    "\n",
    "This code will give you the data you will use for this PC:"
   ]
  },
  {
   "cell_type": "code",
   "execution_count": 2,
   "metadata": {
    "id": "u6xLc_dHIJGu"
   },
   "outputs": [],
   "source": [
    "# read web table into pandas DF\n",
    "import pandas as pd\n",
    "\n",
    "co2Link='https://docs.google.com/spreadsheets/d/e/2PACX-1vRXjfxeKHQBBCh_oHP-D6RIHEX4eduLjydHb6ZGsU4jo0IK0KKQSoYX_X1FGssC_9hnqCgjKN0K4AVf/pub?gid=775098192&single=true&output=csv'\n",
    "carbon=pd.read_csv(co2Link)\n"
   ]
  },
  {
   "cell_type": "code",
   "execution_count": 3,
   "metadata": {
    "colab": {
     "base_uri": "https://localhost:8080/",
     "height": 475
    },
    "id": "dAmQQMGvj3iN",
    "outputId": "001a8dc6-6a4c-4081-b98f-1bf7b0e2ad7c"
   },
   "outputs": [
    {
     "data": {
      "text/html": [
       "<div>\n",
       "<style scoped>\n",
       "    .dataframe tbody tr th:only-of-type {\n",
       "        vertical-align: middle;\n",
       "    }\n",
       "\n",
       "    .dataframe tbody tr th {\n",
       "        vertical-align: top;\n",
       "    }\n",
       "\n",
       "    .dataframe thead th {\n",
       "        text-align: right;\n",
       "    }\n",
       "</style>\n",
       "<table border=\"1\" class=\"dataframe\">\n",
       "  <thead>\n",
       "    <tr style=\"text-align: right;\">\n",
       "      <th></th>\n",
       "      <th>name</th>\n",
       "      <th>metric tonnes of CO2</th>\n",
       "      <th>date_of_information</th>\n",
       "      <th>ranking</th>\n",
       "      <th>region</th>\n",
       "    </tr>\n",
       "  </thead>\n",
       "  <tbody>\n",
       "    <tr>\n",
       "      <th>0</th>\n",
       "      <td>China</td>\n",
       "      <td>1.219600e+10</td>\n",
       "      <td>2023</td>\n",
       "      <td>1</td>\n",
       "      <td>East and Southeast Asia</td>\n",
       "    </tr>\n",
       "    <tr>\n",
       "      <th>1</th>\n",
       "      <td>United States</td>\n",
       "      <td>4.795000e+09</td>\n",
       "      <td>2023</td>\n",
       "      <td>2</td>\n",
       "      <td>North America</td>\n",
       "    </tr>\n",
       "    <tr>\n",
       "      <th>2</th>\n",
       "      <td>India</td>\n",
       "      <td>2.821000e+09</td>\n",
       "      <td>2023</td>\n",
       "      <td>3</td>\n",
       "      <td>South Asia</td>\n",
       "    </tr>\n",
       "    <tr>\n",
       "      <th>3</th>\n",
       "      <td>Russia</td>\n",
       "      <td>1.844000e+09</td>\n",
       "      <td>2023</td>\n",
       "      <td>4</td>\n",
       "      <td>Central Asia</td>\n",
       "    </tr>\n",
       "    <tr>\n",
       "      <th>4</th>\n",
       "      <td>Japan</td>\n",
       "      <td>9.602300e+08</td>\n",
       "      <td>2023</td>\n",
       "      <td>5</td>\n",
       "      <td>East and Southeast Asia</td>\n",
       "    </tr>\n",
       "    <tr>\n",
       "      <th>...</th>\n",
       "      <td>...</td>\n",
       "      <td>...</td>\n",
       "      <td>...</td>\n",
       "      <td>...</td>\n",
       "      <td>...</td>\n",
       "    </tr>\n",
       "    <tr>\n",
       "      <th>211</th>\n",
       "      <td>Falkland Islands (Islas Malvinas)</td>\n",
       "      <td>3.600000e+01</td>\n",
       "      <td>2023</td>\n",
       "      <td>212</td>\n",
       "      <td>South America</td>\n",
       "    </tr>\n",
       "    <tr>\n",
       "      <th>212</th>\n",
       "      <td>Montserrat</td>\n",
       "      <td>2.400000e+01</td>\n",
       "      <td>2023</td>\n",
       "      <td>213</td>\n",
       "      <td>Central America and the Caribbean</td>\n",
       "    </tr>\n",
       "    <tr>\n",
       "      <th>213</th>\n",
       "      <td>Antarctica</td>\n",
       "      <td>1.500000e+01</td>\n",
       "      <td>2023</td>\n",
       "      <td>214</td>\n",
       "      <td>Antarctica</td>\n",
       "    </tr>\n",
       "    <tr>\n",
       "      <th>214</th>\n",
       "      <td>Saint Helena, Ascension, and Tristan da Cunha</td>\n",
       "      <td>1.200000e+01</td>\n",
       "      <td>2023</td>\n",
       "      <td>215</td>\n",
       "      <td>Africa</td>\n",
       "    </tr>\n",
       "    <tr>\n",
       "      <th>215</th>\n",
       "      <td>Niue</td>\n",
       "      <td>9.000000e+00</td>\n",
       "      <td>2023</td>\n",
       "      <td>216</td>\n",
       "      <td>Australia and Oceania</td>\n",
       "    </tr>\n",
       "  </tbody>\n",
       "</table>\n",
       "<p>216 rows × 5 columns</p>\n",
       "</div>"
      ],
      "text/plain": [
       "                                              name  metric tonnes of CO2  \\\n",
       "0                                            China          1.219600e+10   \n",
       "1                                    United States          4.795000e+09   \n",
       "2                                            India          2.821000e+09   \n",
       "3                                           Russia          1.844000e+09   \n",
       "4                                            Japan          9.602300e+08   \n",
       "..                                             ...                   ...   \n",
       "211              Falkland Islands (Islas Malvinas)          3.600000e+01   \n",
       "212                                     Montserrat          2.400000e+01   \n",
       "213                                     Antarctica          1.500000e+01   \n",
       "214  Saint Helena, Ascension, and Tristan da Cunha          1.200000e+01   \n",
       "215                                           Niue          9.000000e+00   \n",
       "\n",
       "     date_of_information  ranking                             region  \n",
       "0                   2023        1            East and Southeast Asia  \n",
       "1                   2023        2                      North America  \n",
       "2                   2023        3                         South Asia  \n",
       "3                   2023        4                       Central Asia  \n",
       "4                   2023        5            East and Southeast Asia  \n",
       "..                   ...      ...                                ...  \n",
       "211                 2023      212                      South America  \n",
       "212                 2023      213  Central America and the Caribbean  \n",
       "213                 2023      214                         Antarctica  \n",
       "214                 2023      215                             Africa  \n",
       "215                 2023      216              Australia and Oceania  \n",
       "\n",
       "[216 rows x 5 columns]"
      ]
     },
     "execution_count": 3,
     "metadata": {},
     "output_type": "execute_result"
    }
   ],
   "source": [
    "# here it is:\n",
    "carbon"
   ]
  },
  {
   "cell_type": "markdown",
   "metadata": {
    "id": "v6HBjYfNrsLS"
   },
   "source": [
    "As you see, some columns have space, which should be deleted:"
   ]
  },
  {
   "cell_type": "code",
   "execution_count": 4,
   "metadata": {
    "colab": {
     "base_uri": "https://localhost:8080/"
    },
    "id": "0TTJk1odj3iN",
    "outputId": "0426e20e-928c-41dd-87f2-b1bfd0841f38"
   },
   "outputs": [
    {
     "data": {
      "text/plain": [
       "Index(['name', 'metric tonnes of CO2', 'date_of_information', 'ranking',\n",
       "       'region'],\n",
       "      dtype='object')"
      ]
     },
     "execution_count": 4,
     "metadata": {},
     "output_type": "execute_result"
    }
   ],
   "source": [
    "# also\n",
    "carbon.columns"
   ]
  },
  {
   "cell_type": "code",
   "execution_count": 5,
   "metadata": {
    "colab": {
     "base_uri": "https://localhost:8080/"
    },
    "id": "WVLGhvkYj3iO",
    "outputId": "1d57d442-9ce5-45be-eca3-d56a72326c9a"
   },
   "outputs": [
    {
     "name": "stdout",
     "output_type": "stream",
     "text": [
      "<class 'pandas.core.frame.DataFrame'>\n",
      "RangeIndex: 216 entries, 0 to 215\n",
      "Data columns (total 5 columns):\n",
      " #   Column                Non-Null Count  Dtype  \n",
      "---  ------                --------------  -----  \n",
      " 0   name                  216 non-null    object \n",
      " 1   metric_tonnes_of_CO2  216 non-null    float64\n",
      " 2   date_of_information   216 non-null    int64  \n",
      " 3   ranking               216 non-null    int64  \n",
      " 4   region                216 non-null    object \n",
      "dtypes: float64(1), int64(2), object(2)\n",
      "memory usage: 8.6+ KB\n"
     ]
    }
   ],
   "source": [
    "# Like this\n",
    "carbon.rename(columns={'metric tonnes of CO2':'metric_tonnes_of_CO2'},inplace=True)\n",
    "\n",
    "# see\n",
    "carbon.info()"
   ]
  },
  {
   "cell_type": "markdown",
   "metadata": {
    "id": "zSs8kzqyuMCs"
   },
   "source": [
    "You always make a copy:"
   ]
  },
  {
   "cell_type": "code",
   "execution_count": 6,
   "metadata": {
    "colab": {
     "base_uri": "https://localhost:8080/",
     "height": 475
    },
    "id": "_dy6SS_7uQEA",
    "outputId": "c1005635-8afd-4dcc-fec3-f951ea773814"
   },
   "outputs": [
    {
     "data": {
      "text/html": [
       "<div>\n",
       "<style scoped>\n",
       "    .dataframe tbody tr th:only-of-type {\n",
       "        vertical-align: middle;\n",
       "    }\n",
       "\n",
       "    .dataframe tbody tr th {\n",
       "        vertical-align: top;\n",
       "    }\n",
       "\n",
       "    .dataframe thead th {\n",
       "        text-align: right;\n",
       "    }\n",
       "</style>\n",
       "<table border=\"1\" class=\"dataframe\">\n",
       "  <thead>\n",
       "    <tr style=\"text-align: right;\">\n",
       "      <th></th>\n",
       "      <th>name</th>\n",
       "      <th>metric_tonnes_of_CO2</th>\n",
       "      <th>date_of_information</th>\n",
       "      <th>ranking</th>\n",
       "      <th>region</th>\n",
       "    </tr>\n",
       "  </thead>\n",
       "  <tbody>\n",
       "    <tr>\n",
       "      <th>0</th>\n",
       "      <td>China</td>\n",
       "      <td>1.219600e+10</td>\n",
       "      <td>2023</td>\n",
       "      <td>1</td>\n",
       "      <td>East and Southeast Asia</td>\n",
       "    </tr>\n",
       "    <tr>\n",
       "      <th>1</th>\n",
       "      <td>United States</td>\n",
       "      <td>4.795000e+09</td>\n",
       "      <td>2023</td>\n",
       "      <td>2</td>\n",
       "      <td>North America</td>\n",
       "    </tr>\n",
       "    <tr>\n",
       "      <th>2</th>\n",
       "      <td>India</td>\n",
       "      <td>2.821000e+09</td>\n",
       "      <td>2023</td>\n",
       "      <td>3</td>\n",
       "      <td>South Asia</td>\n",
       "    </tr>\n",
       "    <tr>\n",
       "      <th>3</th>\n",
       "      <td>Russia</td>\n",
       "      <td>1.844000e+09</td>\n",
       "      <td>2023</td>\n",
       "      <td>4</td>\n",
       "      <td>Central Asia</td>\n",
       "    </tr>\n",
       "    <tr>\n",
       "      <th>4</th>\n",
       "      <td>Japan</td>\n",
       "      <td>9.602300e+08</td>\n",
       "      <td>2023</td>\n",
       "      <td>5</td>\n",
       "      <td>East and Southeast Asia</td>\n",
       "    </tr>\n",
       "    <tr>\n",
       "      <th>...</th>\n",
       "      <td>...</td>\n",
       "      <td>...</td>\n",
       "      <td>...</td>\n",
       "      <td>...</td>\n",
       "      <td>...</td>\n",
       "    </tr>\n",
       "    <tr>\n",
       "      <th>211</th>\n",
       "      <td>Falkland Islands (Islas Malvinas)</td>\n",
       "      <td>3.600000e+01</td>\n",
       "      <td>2023</td>\n",
       "      <td>212</td>\n",
       "      <td>South America</td>\n",
       "    </tr>\n",
       "    <tr>\n",
       "      <th>212</th>\n",
       "      <td>Montserrat</td>\n",
       "      <td>2.400000e+01</td>\n",
       "      <td>2023</td>\n",
       "      <td>213</td>\n",
       "      <td>Central America and the Caribbean</td>\n",
       "    </tr>\n",
       "    <tr>\n",
       "      <th>213</th>\n",
       "      <td>Antarctica</td>\n",
       "      <td>1.500000e+01</td>\n",
       "      <td>2023</td>\n",
       "      <td>214</td>\n",
       "      <td>Antarctica</td>\n",
       "    </tr>\n",
       "    <tr>\n",
       "      <th>214</th>\n",
       "      <td>Saint Helena, Ascension, and Tristan da Cunha</td>\n",
       "      <td>1.200000e+01</td>\n",
       "      <td>2023</td>\n",
       "      <td>215</td>\n",
       "      <td>Africa</td>\n",
       "    </tr>\n",
       "    <tr>\n",
       "      <th>215</th>\n",
       "      <td>Niue</td>\n",
       "      <td>9.000000e+00</td>\n",
       "      <td>2023</td>\n",
       "      <td>216</td>\n",
       "      <td>Australia and Oceania</td>\n",
       "    </tr>\n",
       "  </tbody>\n",
       "</table>\n",
       "<p>216 rows × 5 columns</p>\n",
       "</div>"
      ],
      "text/plain": [
       "                                              name  metric_tonnes_of_CO2  \\\n",
       "0                                            China          1.219600e+10   \n",
       "1                                    United States          4.795000e+09   \n",
       "2                                            India          2.821000e+09   \n",
       "3                                           Russia          1.844000e+09   \n",
       "4                                            Japan          9.602300e+08   \n",
       "..                                             ...                   ...   \n",
       "211              Falkland Islands (Islas Malvinas)          3.600000e+01   \n",
       "212                                     Montserrat          2.400000e+01   \n",
       "213                                     Antarctica          1.500000e+01   \n",
       "214  Saint Helena, Ascension, and Tristan da Cunha          1.200000e+01   \n",
       "215                                           Niue          9.000000e+00   \n",
       "\n",
       "     date_of_information  ranking                             region  \n",
       "0                   2023        1            East and Southeast Asia  \n",
       "1                   2023        2                      North America  \n",
       "2                   2023        3                         South Asia  \n",
       "3                   2023        4                       Central Asia  \n",
       "4                   2023        5            East and Southeast Asia  \n",
       "..                   ...      ...                                ...  \n",
       "211                 2023      212                      South America  \n",
       "212                 2023      213  Central America and the Caribbean  \n",
       "213                 2023      214                         Antarctica  \n",
       "214                 2023      215                             Africa  \n",
       "215                 2023      216              Australia and Oceania  \n",
       "\n",
       "[216 rows x 5 columns]"
      ]
     },
     "execution_count": 6,
     "metadata": {},
     "output_type": "execute_result"
    }
   ],
   "source": [
    "carbon_copy=carbon.copy()\n",
    "carbon_copy"
   ]
  },
  {
   "cell_type": "markdown",
   "metadata": {
    "id": "sYdJtJSwsB9M"
   },
   "source": [
    "## Questions"
   ]
  },
  {
   "cell_type": "markdown",
   "metadata": {
    "id": "UIw8d0ozj3iO"
   },
   "source": [
    "Complete the tasks requested using **carbon_copy**:\n",
    "\n",
    "1. Keep all the columns but _Ranking_:\n",
    "    * Tip: use [drop](https://pandas.pydata.org/docs/reference/api/pandas.DataFrame.drop.html), [loc](https://pandas.pydata.org/docs/reference/api/pandas.DataFrame.loc.html), and [iloc](https://pandas.pydata.org/docs/reference/api/pandas.DataFrame.iloc.html) for the same purpose (three ways to accomplish the task).\n",
    "\n",
    "2. Find the country with the minimum CO2 emission in the world.\n",
    "\n",
    "3. Find the country with the minimum CO2 emission per Region.\n",
    "\n",
    "4. Create a new column by keeping the square root of the the original CO2  column.\n",
    "\n",
    "5. Compute the average of CO2. Then, create a new column. This new column is\n",
    "the original CO2 minus the average computed.\n",
    "\n",
    "You have changed **carbon_copy**, now save it as a file like this:"
   ]
  },
  {
   "cell_type": "code",
   "execution_count": null,
   "metadata": {
    "id": "AXeewlqLj3iO"
   },
   "outputs": [],
   "source": [
    "# carbon_copy.to_csv(\"carbon_copy.csv\",index=False)"
   ]
  },
  {
   "cell_type": "markdown",
   "metadata": {
    "id": "c5c43SoaYibp"
   },
   "source": [
    "### Task 1"
   ]
  },
  {
   "cell_type": "code",
   "execution_count": 7,
   "metadata": {
    "colab": {
     "base_uri": "https://localhost:8080/",
     "height": 458
    },
    "id": "Jyo7qH2KYkJN",
    "outputId": "adc4f343-9926-4641-f5fb-ec070f9ffd97"
   },
   "outputs": [
    {
     "data": {
      "text/html": [
       "<div>\n",
       "<style scoped>\n",
       "    .dataframe tbody tr th:only-of-type {\n",
       "        vertical-align: middle;\n",
       "    }\n",
       "\n",
       "    .dataframe tbody tr th {\n",
       "        vertical-align: top;\n",
       "    }\n",
       "\n",
       "    .dataframe thead th {\n",
       "        text-align: right;\n",
       "    }\n",
       "</style>\n",
       "<table border=\"1\" class=\"dataframe\">\n",
       "  <thead>\n",
       "    <tr style=\"text-align: right;\">\n",
       "      <th></th>\n",
       "      <th>name</th>\n",
       "      <th>metric_tonnes_of_CO2</th>\n",
       "      <th>date_of_information</th>\n",
       "      <th>region</th>\n",
       "    </tr>\n",
       "  </thead>\n",
       "  <tbody>\n",
       "    <tr>\n",
       "      <th>0</th>\n",
       "      <td>China</td>\n",
       "      <td>1.219600e+10</td>\n",
       "      <td>2023</td>\n",
       "      <td>East and Southeast Asia</td>\n",
       "    </tr>\n",
       "    <tr>\n",
       "      <th>1</th>\n",
       "      <td>United States</td>\n",
       "      <td>4.795000e+09</td>\n",
       "      <td>2023</td>\n",
       "      <td>North America</td>\n",
       "    </tr>\n",
       "    <tr>\n",
       "      <th>2</th>\n",
       "      <td>India</td>\n",
       "      <td>2.821000e+09</td>\n",
       "      <td>2023</td>\n",
       "      <td>South Asia</td>\n",
       "    </tr>\n",
       "    <tr>\n",
       "      <th>3</th>\n",
       "      <td>Russia</td>\n",
       "      <td>1.844000e+09</td>\n",
       "      <td>2023</td>\n",
       "      <td>Central Asia</td>\n",
       "    </tr>\n",
       "    <tr>\n",
       "      <th>4</th>\n",
       "      <td>Japan</td>\n",
       "      <td>9.602300e+08</td>\n",
       "      <td>2023</td>\n",
       "      <td>East and Southeast Asia</td>\n",
       "    </tr>\n",
       "    <tr>\n",
       "      <th>...</th>\n",
       "      <td>...</td>\n",
       "      <td>...</td>\n",
       "      <td>...</td>\n",
       "      <td>...</td>\n",
       "    </tr>\n",
       "    <tr>\n",
       "      <th>211</th>\n",
       "      <td>Falkland Islands (Islas Malvinas)</td>\n",
       "      <td>3.600000e+01</td>\n",
       "      <td>2023</td>\n",
       "      <td>South America</td>\n",
       "    </tr>\n",
       "    <tr>\n",
       "      <th>212</th>\n",
       "      <td>Montserrat</td>\n",
       "      <td>2.400000e+01</td>\n",
       "      <td>2023</td>\n",
       "      <td>Central America and the Caribbean</td>\n",
       "    </tr>\n",
       "    <tr>\n",
       "      <th>213</th>\n",
       "      <td>Antarctica</td>\n",
       "      <td>1.500000e+01</td>\n",
       "      <td>2023</td>\n",
       "      <td>Antarctica</td>\n",
       "    </tr>\n",
       "    <tr>\n",
       "      <th>214</th>\n",
       "      <td>Saint Helena, Ascension, and Tristan da Cunha</td>\n",
       "      <td>1.200000e+01</td>\n",
       "      <td>2023</td>\n",
       "      <td>Africa</td>\n",
       "    </tr>\n",
       "    <tr>\n",
       "      <th>215</th>\n",
       "      <td>Niue</td>\n",
       "      <td>9.000000e+00</td>\n",
       "      <td>2023</td>\n",
       "      <td>Australia and Oceania</td>\n",
       "    </tr>\n",
       "  </tbody>\n",
       "</table>\n",
       "<p>216 rows × 4 columns</p>\n",
       "</div>"
      ],
      "text/plain": [
       "                                              name  metric_tonnes_of_CO2  \\\n",
       "0                                            China          1.219600e+10   \n",
       "1                                    United States          4.795000e+09   \n",
       "2                                            India          2.821000e+09   \n",
       "3                                           Russia          1.844000e+09   \n",
       "4                                            Japan          9.602300e+08   \n",
       "..                                             ...                   ...   \n",
       "211              Falkland Islands (Islas Malvinas)          3.600000e+01   \n",
       "212                                     Montserrat          2.400000e+01   \n",
       "213                                     Antarctica          1.500000e+01   \n",
       "214  Saint Helena, Ascension, and Tristan da Cunha          1.200000e+01   \n",
       "215                                           Niue          9.000000e+00   \n",
       "\n",
       "     date_of_information                             region  \n",
       "0                   2023            East and Southeast Asia  \n",
       "1                   2023                      North America  \n",
       "2                   2023                         South Asia  \n",
       "3                   2023                       Central Asia  \n",
       "4                   2023            East and Southeast Asia  \n",
       "..                   ...                                ...  \n",
       "211                 2023                      South America  \n",
       "212                 2023  Central America and the Caribbean  \n",
       "213                 2023                         Antarctica  \n",
       "214                 2023                             Africa  \n",
       "215                 2023              Australia and Oceania  \n",
       "\n",
       "[216 rows x 4 columns]"
      ]
     },
     "execution_count": 7,
     "metadata": {},
     "output_type": "execute_result"
    }
   ],
   "source": [
    "carbon_copy.drop(columns=[\"ranking\"],inplace=True)\n",
    "carbon_copy"
   ]
  },
  {
   "cell_type": "markdown",
   "metadata": {
    "id": "0JrGa8i1Y4QW"
   },
   "source": [
    "### Task 2"
   ]
  },
  {
   "cell_type": "code",
   "execution_count": 9,
   "metadata": {
    "colab": {
     "base_uri": "https://localhost:8080/",
     "height": 115
    },
    "id": "GNuH7tIDY7Ke",
    "outputId": "67837aac-df4a-404f-bd67-2fe83dc6fcd7"
   },
   "outputs": [
    {
     "data": {
      "text/html": [
       "<div>\n",
       "<style scoped>\n",
       "    .dataframe tbody tr th:only-of-type {\n",
       "        vertical-align: middle;\n",
       "    }\n",
       "\n",
       "    .dataframe tbody tr th {\n",
       "        vertical-align: top;\n",
       "    }\n",
       "\n",
       "    .dataframe thead th {\n",
       "        text-align: right;\n",
       "    }\n",
       "</style>\n",
       "<table border=\"1\" class=\"dataframe\">\n",
       "  <thead>\n",
       "    <tr style=\"text-align: right;\">\n",
       "      <th></th>\n",
       "      <th>name</th>\n",
       "      <th>metric_tonnes_of_CO2</th>\n",
       "      <th>date_of_information</th>\n",
       "      <th>region</th>\n",
       "    </tr>\n",
       "  </thead>\n",
       "  <tbody>\n",
       "    <tr>\n",
       "      <th>215</th>\n",
       "      <td>Niue</td>\n",
       "      <td>9.0</td>\n",
       "      <td>2023</td>\n",
       "      <td>Australia and Oceania</td>\n",
       "    </tr>\n",
       "  </tbody>\n",
       "</table>\n",
       "</div>"
      ],
      "text/plain": [
       "     name  metric_tonnes_of_CO2  date_of_information                 region\n",
       "215  Niue                   9.0                 2023  Australia and Oceania"
      ]
     },
     "execution_count": 9,
     "metadata": {},
     "output_type": "execute_result"
    }
   ],
   "source": [
    "carbon_copy[carbon_copy.metric_tonnes_of_CO2==carbon_copy.metric_tonnes_of_CO2.min()]"
   ]
  },
  {
   "cell_type": "markdown",
   "metadata": {
    "id": "WYU_p4hGYx3W"
   },
   "source": [
    "### Task 3"
   ]
  },
  {
   "cell_type": "code",
   "execution_count": 10,
   "metadata": {
    "colab": {
     "base_uri": "https://localhost:8080/"
    },
    "id": "tERELdKSY8wn",
    "outputId": "564de3a5-9bfa-42db-c2c1-bc29e7a6a35d"
   },
   "outputs": [
    {
     "data": {
      "text/plain": [
       "array(['East and Southeast Asia', 'North America', 'South Asia',\n",
       "       'Central Asia', 'Middle East', 'Europe', 'Africa', 'South America',\n",
       "       'Australia and Oceania', 'Central America and the Caribbean',\n",
       "       'Antarctica'], dtype=object)"
      ]
     },
     "execution_count": 10,
     "metadata": {},
     "output_type": "execute_result"
    }
   ],
   "source": [
    "#Encontramos todas las regiones en las que se divide el mundo según la tabla. Son 11 regiones.\n",
    "regions=carbon_copy.region.unique()\n",
    "regions"
   ]
  },
  {
   "cell_type": "code",
   "execution_count": 11,
   "metadata": {
    "colab": {
     "base_uri": "https://localhost:8080/",
     "height": 81
    },
    "id": "sC-yGt5hgBBP",
    "outputId": "f565a5c1-390b-4349-a7f9-6a8b9d58645e"
   },
   "outputs": [
    {
     "data": {
      "text/html": [
       "<div>\n",
       "<style scoped>\n",
       "    .dataframe tbody tr th:only-of-type {\n",
       "        vertical-align: middle;\n",
       "    }\n",
       "\n",
       "    .dataframe tbody tr th {\n",
       "        vertical-align: top;\n",
       "    }\n",
       "\n",
       "    .dataframe thead th {\n",
       "        text-align: right;\n",
       "    }\n",
       "</style>\n",
       "<table border=\"1\" class=\"dataframe\">\n",
       "  <thead>\n",
       "    <tr style=\"text-align: right;\">\n",
       "      <th></th>\n",
       "      <th>name</th>\n",
       "      <th>metric_tonnes_of_CO2</th>\n",
       "      <th>date_of_information</th>\n",
       "      <th>region</th>\n",
       "    </tr>\n",
       "  </thead>\n",
       "  <tbody>\n",
       "    <tr>\n",
       "      <th>184</th>\n",
       "      <td>Timor-Leste</td>\n",
       "      <td>660.0</td>\n",
       "      <td>2023</td>\n",
       "      <td>East and Southeast Asia</td>\n",
       "    </tr>\n",
       "  </tbody>\n",
       "</table>\n",
       "</div>"
      ],
      "text/plain": [
       "            name  metric_tonnes_of_CO2  date_of_information  \\\n",
       "184  Timor-Leste                 660.0                 2023   \n",
       "\n",
       "                      region  \n",
       "184  East and Southeast Asia  "
      ]
     },
     "execution_count": 11,
     "metadata": {},
     "output_type": "execute_result"
    }
   ],
   "source": [
    "#region 1: East and Southeast Asia\n",
    "region1=carbon_copy[carbon_copy.region==regions[0]]\n",
    "region1[region1.metric_tonnes_of_CO2==region1.metric_tonnes_of_CO2.min()]"
   ]
  },
  {
   "cell_type": "code",
   "execution_count": 12,
   "metadata": {
    "colab": {
     "base_uri": "https://localhost:8080/",
     "height": 81
    },
    "id": "Cil0OWAVf-Jb",
    "outputId": "86da83e6-4b6d-4ff9-ba22-28d8d61d5315"
   },
   "outputs": [
    {
     "data": {
      "text/html": [
       "<div>\n",
       "<style scoped>\n",
       "    .dataframe tbody tr th:only-of-type {\n",
       "        vertical-align: middle;\n",
       "    }\n",
       "\n",
       "    .dataframe tbody tr th {\n",
       "        vertical-align: top;\n",
       "    }\n",
       "\n",
       "    .dataframe thead th {\n",
       "        text-align: right;\n",
       "    }\n",
       "</style>\n",
       "<table border=\"1\" class=\"dataframe\">\n",
       "  <thead>\n",
       "    <tr style=\"text-align: right;\">\n",
       "      <th></th>\n",
       "      <th>name</th>\n",
       "      <th>metric_tonnes_of_CO2</th>\n",
       "      <th>date_of_information</th>\n",
       "      <th>region</th>\n",
       "    </tr>\n",
       "  </thead>\n",
       "  <tbody>\n",
       "    <tr>\n",
       "      <th>210</th>\n",
       "      <td>Saint Pierre and Miquelon</td>\n",
       "      <td>57.0</td>\n",
       "      <td>2023</td>\n",
       "      <td>North America</td>\n",
       "    </tr>\n",
       "  </tbody>\n",
       "</table>\n",
       "</div>"
      ],
      "text/plain": [
       "                          name  metric_tonnes_of_CO2  date_of_information  \\\n",
       "210  Saint Pierre and Miquelon                  57.0                 2023   \n",
       "\n",
       "            region  \n",
       "210  North America  "
      ]
     },
     "execution_count": 12,
     "metadata": {},
     "output_type": "execute_result"
    }
   ],
   "source": [
    "#region 2: North America\n",
    "region2=carbon_copy[carbon_copy.region==regions[1]]\n",
    "region2[region2.metric_tonnes_of_CO2==region2.metric_tonnes_of_CO2.min()]"
   ]
  },
  {
   "cell_type": "code",
   "execution_count": 13,
   "metadata": {
    "colab": {
     "base_uri": "https://localhost:8080/",
     "height": 81
    },
    "id": "Vhtfp4GqiH3f",
    "outputId": "f632f9b6-2de3-4946-aa75-3269dec4fa69"
   },
   "outputs": [
    {
     "data": {
      "text/html": [
       "<div>\n",
       "<style scoped>\n",
       "    .dataframe tbody tr th:only-of-type {\n",
       "        vertical-align: middle;\n",
       "    }\n",
       "\n",
       "    .dataframe tbody tr th {\n",
       "        vertical-align: top;\n",
       "    }\n",
       "\n",
       "    .dataframe thead th {\n",
       "        text-align: right;\n",
       "    }\n",
       "</style>\n",
       "<table border=\"1\" class=\"dataframe\">\n",
       "  <thead>\n",
       "    <tr style=\"text-align: right;\">\n",
       "      <th></th>\n",
       "      <th>name</th>\n",
       "      <th>metric_tonnes_of_CO2</th>\n",
       "      <th>date_of_information</th>\n",
       "      <th>region</th>\n",
       "    </tr>\n",
       "  </thead>\n",
       "  <tbody>\n",
       "    <tr>\n",
       "      <th>177</th>\n",
       "      <td>Bhutan</td>\n",
       "      <td>733.0</td>\n",
       "      <td>2023</td>\n",
       "      <td>South Asia</td>\n",
       "    </tr>\n",
       "  </tbody>\n",
       "</table>\n",
       "</div>"
      ],
      "text/plain": [
       "       name  metric_tonnes_of_CO2  date_of_information      region\n",
       "177  Bhutan                 733.0                 2023  South Asia"
      ]
     },
     "execution_count": 13,
     "metadata": {},
     "output_type": "execute_result"
    }
   ],
   "source": [
    "#region 3: South Asia\n",
    "region3=carbon_copy[carbon_copy.region==regions[2]]\n",
    "region3[region3.metric_tonnes_of_CO2==region3.metric_tonnes_of_CO2.min()]"
   ]
  },
  {
   "cell_type": "code",
   "execution_count": 14,
   "metadata": {
    "colab": {
     "base_uri": "https://localhost:8080/",
     "height": 81
    },
    "id": "a20JbmMKiQtn",
    "outputId": "07b85634-a51c-4b50-885d-6f14be1afeb0"
   },
   "outputs": [
    {
     "data": {
      "text/html": [
       "<div>\n",
       "<style scoped>\n",
       "    .dataframe tbody tr th:only-of-type {\n",
       "        vertical-align: middle;\n",
       "    }\n",
       "\n",
       "    .dataframe tbody tr th {\n",
       "        vertical-align: top;\n",
       "    }\n",
       "\n",
       "    .dataframe thead th {\n",
       "        text-align: right;\n",
       "    }\n",
       "</style>\n",
       "<table border=\"1\" class=\"dataframe\">\n",
       "  <thead>\n",
       "    <tr style=\"text-align: right;\">\n",
       "      <th></th>\n",
       "      <th>name</th>\n",
       "      <th>metric_tonnes_of_CO2</th>\n",
       "      <th>date_of_information</th>\n",
       "      <th>region</th>\n",
       "    </tr>\n",
       "  </thead>\n",
       "  <tbody>\n",
       "    <tr>\n",
       "      <th>121</th>\n",
       "      <td>Armenia</td>\n",
       "      <td>7144000.0</td>\n",
       "      <td>2023</td>\n",
       "      <td>Central Asia</td>\n",
       "    </tr>\n",
       "  </tbody>\n",
       "</table>\n",
       "</div>"
      ],
      "text/plain": [
       "        name  metric_tonnes_of_CO2  date_of_information        region\n",
       "121  Armenia             7144000.0                 2023  Central Asia"
      ]
     },
     "execution_count": 14,
     "metadata": {},
     "output_type": "execute_result"
    }
   ],
   "source": [
    "#region 4: Central Asia\n",
    "region4=carbon_copy[carbon_copy.region==regions[3]]\n",
    "region4[region4.metric_tonnes_of_CO2==region4.metric_tonnes_of_CO2.min()]"
   ]
  },
  {
   "cell_type": "code",
   "execution_count": 15,
   "metadata": {
    "colab": {
     "base_uri": "https://localhost:8080/",
     "height": 112
    },
    "id": "D-ruEdvliaJ-",
    "outputId": "c19597d6-1f51-42e8-bb8a-771c9c1f1a40"
   },
   "outputs": [
    {
     "data": {
      "text/html": [
       "<div>\n",
       "<style scoped>\n",
       "    .dataframe tbody tr th:only-of-type {\n",
       "        vertical-align: middle;\n",
       "    }\n",
       "\n",
       "    .dataframe tbody tr th {\n",
       "        vertical-align: top;\n",
       "    }\n",
       "\n",
       "    .dataframe thead th {\n",
       "        text-align: right;\n",
       "    }\n",
       "</style>\n",
       "<table border=\"1\" class=\"dataframe\">\n",
       "  <thead>\n",
       "    <tr style=\"text-align: right;\">\n",
       "      <th></th>\n",
       "      <th>name</th>\n",
       "      <th>metric_tonnes_of_CO2</th>\n",
       "      <th>date_of_information</th>\n",
       "      <th>region</th>\n",
       "    </tr>\n",
       "  </thead>\n",
       "  <tbody>\n",
       "    <tr>\n",
       "      <th>141</th>\n",
       "      <td>Gaza Strip</td>\n",
       "      <td>3913000.0</td>\n",
       "      <td>2023</td>\n",
       "      <td>Middle East</td>\n",
       "    </tr>\n",
       "    <tr>\n",
       "      <th>142</th>\n",
       "      <td>West Bank</td>\n",
       "      <td>3913000.0</td>\n",
       "      <td>2023</td>\n",
       "      <td>Middle East</td>\n",
       "    </tr>\n",
       "  </tbody>\n",
       "</table>\n",
       "</div>"
      ],
      "text/plain": [
       "           name  metric_tonnes_of_CO2  date_of_information       region\n",
       "141  Gaza Strip             3913000.0                 2023  Middle East\n",
       "142   West Bank             3913000.0                 2023  Middle East"
      ]
     },
     "execution_count": 15,
     "metadata": {},
     "output_type": "execute_result"
    }
   ],
   "source": [
    "#region 5: Middle East\n",
    "region5=carbon_copy[carbon_copy.region==regions[4]]\n",
    "region5[region5.metric_tonnes_of_CO2==region5.metric_tonnes_of_CO2.min()]"
   ]
  },
  {
   "cell_type": "code",
   "execution_count": 16,
   "metadata": {
    "colab": {
     "base_uri": "https://localhost:8080/",
     "height": 81
    },
    "id": "0qcrszsyimDO",
    "outputId": "21436c88-943e-4f39-8041-de00690ca641"
   },
   "outputs": [
    {
     "data": {
      "text/html": [
       "<div>\n",
       "<style scoped>\n",
       "    .dataframe tbody tr th:only-of-type {\n",
       "        vertical-align: middle;\n",
       "    }\n",
       "\n",
       "    .dataframe tbody tr th {\n",
       "        vertical-align: top;\n",
       "    }\n",
       "\n",
       "    .dataframe thead th {\n",
       "        text-align: right;\n",
       "    }\n",
       "</style>\n",
       "<table border=\"1\" class=\"dataframe\">\n",
       "  <thead>\n",
       "    <tr style=\"text-align: right;\">\n",
       "      <th></th>\n",
       "      <th>name</th>\n",
       "      <th>metric_tonnes_of_CO2</th>\n",
       "      <th>date_of_information</th>\n",
       "      <th>region</th>\n",
       "    </tr>\n",
       "  </thead>\n",
       "  <tbody>\n",
       "    <tr>\n",
       "      <th>175</th>\n",
       "      <td>Faroe Islands</td>\n",
       "      <td>742.0</td>\n",
       "      <td>2023</td>\n",
       "      <td>Europe</td>\n",
       "    </tr>\n",
       "  </tbody>\n",
       "</table>\n",
       "</div>"
      ],
      "text/plain": [
       "              name  metric_tonnes_of_CO2  date_of_information  region\n",
       "175  Faroe Islands                 742.0                 2023  Europe"
      ]
     },
     "execution_count": 16,
     "metadata": {},
     "output_type": "execute_result"
    }
   ],
   "source": [
    "#region 6: Europe\n",
    "region6=carbon_copy[carbon_copy.region==regions[5]]\n",
    "region6[region6.metric_tonnes_of_CO2==region6.metric_tonnes_of_CO2.min()]"
   ]
  },
  {
   "cell_type": "code",
   "execution_count": 17,
   "metadata": {
    "colab": {
     "base_uri": "https://localhost:8080/",
     "height": 81
    },
    "id": "7U8KA5uBjAZ_",
    "outputId": "ec1e0d8d-7d15-4a25-fd13-c5cd7a9b9e5c"
   },
   "outputs": [
    {
     "data": {
      "text/html": [
       "<div>\n",
       "<style scoped>\n",
       "    .dataframe tbody tr th:only-of-type {\n",
       "        vertical-align: middle;\n",
       "    }\n",
       "\n",
       "    .dataframe tbody tr th {\n",
       "        vertical-align: top;\n",
       "    }\n",
       "\n",
       "    .dataframe thead th {\n",
       "        text-align: right;\n",
       "    }\n",
       "</style>\n",
       "<table border=\"1\" class=\"dataframe\">\n",
       "  <thead>\n",
       "    <tr style=\"text-align: right;\">\n",
       "      <th></th>\n",
       "      <th>name</th>\n",
       "      <th>metric_tonnes_of_CO2</th>\n",
       "      <th>date_of_information</th>\n",
       "      <th>region</th>\n",
       "    </tr>\n",
       "  </thead>\n",
       "  <tbody>\n",
       "    <tr>\n",
       "      <th>214</th>\n",
       "      <td>Saint Helena, Ascension, and Tristan da Cunha</td>\n",
       "      <td>12.0</td>\n",
       "      <td>2023</td>\n",
       "      <td>Africa</td>\n",
       "    </tr>\n",
       "  </tbody>\n",
       "</table>\n",
       "</div>"
      ],
      "text/plain": [
       "                                              name  metric_tonnes_of_CO2  \\\n",
       "214  Saint Helena, Ascension, and Tristan da Cunha                  12.0   \n",
       "\n",
       "     date_of_information  region  \n",
       "214                 2023  Africa  "
      ]
     },
     "execution_count": 17,
     "metadata": {},
     "output_type": "execute_result"
    }
   ],
   "source": [
    "#region 7: Africa\n",
    "region7=carbon_copy[carbon_copy.region==regions[6]]\n",
    "region7[region7.metric_tonnes_of_CO2==region7.metric_tonnes_of_CO2.min()]"
   ]
  },
  {
   "cell_type": "code",
   "execution_count": 18,
   "metadata": {
    "colab": {
     "base_uri": "https://localhost:8080/",
     "height": 81
    },
    "id": "ACpFut6HjGWN",
    "outputId": "a0d32d38-dc00-4b29-a243-2ec0d80aebdc"
   },
   "outputs": [
    {
     "data": {
      "text/html": [
       "<div>\n",
       "<style scoped>\n",
       "    .dataframe tbody tr th:only-of-type {\n",
       "        vertical-align: middle;\n",
       "    }\n",
       "\n",
       "    .dataframe tbody tr th {\n",
       "        vertical-align: top;\n",
       "    }\n",
       "\n",
       "    .dataframe thead th {\n",
       "        text-align: right;\n",
       "    }\n",
       "</style>\n",
       "<table border=\"1\" class=\"dataframe\">\n",
       "  <thead>\n",
       "    <tr style=\"text-align: right;\">\n",
       "      <th></th>\n",
       "      <th>name</th>\n",
       "      <th>metric_tonnes_of_CO2</th>\n",
       "      <th>date_of_information</th>\n",
       "      <th>region</th>\n",
       "    </tr>\n",
       "  </thead>\n",
       "  <tbody>\n",
       "    <tr>\n",
       "      <th>211</th>\n",
       "      <td>Falkland Islands (Islas Malvinas)</td>\n",
       "      <td>36.0</td>\n",
       "      <td>2023</td>\n",
       "      <td>South America</td>\n",
       "    </tr>\n",
       "  </tbody>\n",
       "</table>\n",
       "</div>"
      ],
      "text/plain": [
       "                                  name  metric_tonnes_of_CO2  \\\n",
       "211  Falkland Islands (Islas Malvinas)                  36.0   \n",
       "\n",
       "     date_of_information         region  \n",
       "211                 2023  South America  "
      ]
     },
     "execution_count": 18,
     "metadata": {},
     "output_type": "execute_result"
    }
   ],
   "source": [
    "#region 8: South America\n",
    "region8=carbon_copy[carbon_copy.region==regions[7]]\n",
    "region8[region8.metric_tonnes_of_CO2==region8.metric_tonnes_of_CO2.min()]"
   ]
  },
  {
   "cell_type": "code",
   "execution_count": 19,
   "metadata": {
    "colab": {
     "base_uri": "https://localhost:8080/",
     "height": 81
    },
    "id": "Y-LnyrQwjaW2",
    "outputId": "21152822-d17c-48e3-ce7b-13495abab9ba"
   },
   "outputs": [
    {
     "data": {
      "text/html": [
       "<div>\n",
       "<style scoped>\n",
       "    .dataframe tbody tr th:only-of-type {\n",
       "        vertical-align: middle;\n",
       "    }\n",
       "\n",
       "    .dataframe tbody tr th {\n",
       "        vertical-align: top;\n",
       "    }\n",
       "\n",
       "    .dataframe thead th {\n",
       "        text-align: right;\n",
       "    }\n",
       "</style>\n",
       "<table border=\"1\" class=\"dataframe\">\n",
       "  <thead>\n",
       "    <tr style=\"text-align: right;\">\n",
       "      <th></th>\n",
       "      <th>name</th>\n",
       "      <th>metric_tonnes_of_CO2</th>\n",
       "      <th>date_of_information</th>\n",
       "      <th>region</th>\n",
       "    </tr>\n",
       "  </thead>\n",
       "  <tbody>\n",
       "    <tr>\n",
       "      <th>215</th>\n",
       "      <td>Niue</td>\n",
       "      <td>9.0</td>\n",
       "      <td>2023</td>\n",
       "      <td>Australia and Oceania</td>\n",
       "    </tr>\n",
       "  </tbody>\n",
       "</table>\n",
       "</div>"
      ],
      "text/plain": [
       "     name  metric_tonnes_of_CO2  date_of_information                 region\n",
       "215  Niue                   9.0                 2023  Australia and Oceania"
      ]
     },
     "execution_count": 19,
     "metadata": {},
     "output_type": "execute_result"
    }
   ],
   "source": [
    "#region 9: Australia and Oceania\n",
    "region9=carbon_copy[carbon_copy.region==regions[8]]\n",
    "region9[region9.metric_tonnes_of_CO2==region9.metric_tonnes_of_CO2.min()]"
   ]
  },
  {
   "cell_type": "code",
   "execution_count": 20,
   "metadata": {
    "colab": {
     "base_uri": "https://localhost:8080/",
     "height": 81
    },
    "id": "uc0jHUbNjgF2",
    "outputId": "37a168f6-8359-4d3f-8048-7645c87a13dd"
   },
   "outputs": [
    {
     "data": {
      "text/html": [
       "<div>\n",
       "<style scoped>\n",
       "    .dataframe tbody tr th:only-of-type {\n",
       "        vertical-align: middle;\n",
       "    }\n",
       "\n",
       "    .dataframe tbody tr th {\n",
       "        vertical-align: top;\n",
       "    }\n",
       "\n",
       "    .dataframe thead th {\n",
       "        text-align: right;\n",
       "    }\n",
       "</style>\n",
       "<table border=\"1\" class=\"dataframe\">\n",
       "  <thead>\n",
       "    <tr style=\"text-align: right;\">\n",
       "      <th></th>\n",
       "      <th>name</th>\n",
       "      <th>metric_tonnes_of_CO2</th>\n",
       "      <th>date_of_information</th>\n",
       "      <th>region</th>\n",
       "    </tr>\n",
       "  </thead>\n",
       "  <tbody>\n",
       "    <tr>\n",
       "      <th>212</th>\n",
       "      <td>Montserrat</td>\n",
       "      <td>24.0</td>\n",
       "      <td>2023</td>\n",
       "      <td>Central America and the Caribbean</td>\n",
       "    </tr>\n",
       "  </tbody>\n",
       "</table>\n",
       "</div>"
      ],
      "text/plain": [
       "           name  metric_tonnes_of_CO2  date_of_information  \\\n",
       "212  Montserrat                  24.0                 2023   \n",
       "\n",
       "                                region  \n",
       "212  Central America and the Caribbean  "
      ]
     },
     "execution_count": 20,
     "metadata": {},
     "output_type": "execute_result"
    }
   ],
   "source": [
    "#region 10: Central America and the Caribbean\n",
    "region10=carbon_copy[carbon_copy.region==regions[9]]\n",
    "region10[region10.metric_tonnes_of_CO2==region10.metric_tonnes_of_CO2.min()]"
   ]
  },
  {
   "cell_type": "code",
   "execution_count": 21,
   "metadata": {
    "colab": {
     "base_uri": "https://localhost:8080/",
     "height": 81
    },
    "id": "6o2ft2OLjgf8",
    "outputId": "1b67f76b-8bb1-4ed9-a8c8-40b468733c4c"
   },
   "outputs": [
    {
     "data": {
      "text/html": [
       "<div>\n",
       "<style scoped>\n",
       "    .dataframe tbody tr th:only-of-type {\n",
       "        vertical-align: middle;\n",
       "    }\n",
       "\n",
       "    .dataframe tbody tr th {\n",
       "        vertical-align: top;\n",
       "    }\n",
       "\n",
       "    .dataframe thead th {\n",
       "        text-align: right;\n",
       "    }\n",
       "</style>\n",
       "<table border=\"1\" class=\"dataframe\">\n",
       "  <thead>\n",
       "    <tr style=\"text-align: right;\">\n",
       "      <th></th>\n",
       "      <th>name</th>\n",
       "      <th>metric_tonnes_of_CO2</th>\n",
       "      <th>date_of_information</th>\n",
       "      <th>region</th>\n",
       "    </tr>\n",
       "  </thead>\n",
       "  <tbody>\n",
       "    <tr>\n",
       "      <th>213</th>\n",
       "      <td>Antarctica</td>\n",
       "      <td>15.0</td>\n",
       "      <td>2023</td>\n",
       "      <td>Antarctica</td>\n",
       "    </tr>\n",
       "  </tbody>\n",
       "</table>\n",
       "</div>"
      ],
      "text/plain": [
       "           name  metric_tonnes_of_CO2  date_of_information      region\n",
       "213  Antarctica                  15.0                 2023  Antarctica"
      ]
     },
     "execution_count": 21,
     "metadata": {},
     "output_type": "execute_result"
    }
   ],
   "source": [
    "#region 11: Antarctica\n",
    "region11=carbon_copy[carbon_copy.region==regions[10]]\n",
    "region11[region11.metric_tonnes_of_CO2==region11.metric_tonnes_of_CO2.min()]"
   ]
  },
  {
   "cell_type": "markdown",
   "metadata": {
    "id": "e9nVC8H5ZAUp"
   },
   "source": [
    "### Task 4"
   ]
  },
  {
   "cell_type": "code",
   "execution_count": 22,
   "metadata": {
    "colab": {
     "base_uri": "https://localhost:8080/",
     "height": 527
    },
    "id": "WL70fQ22ZCTn",
    "outputId": "c7b8cb47-3bf2-4ca7-d579-0bc1268c8461"
   },
   "outputs": [
    {
     "data": {
      "text/html": [
       "<div>\n",
       "<style scoped>\n",
       "    .dataframe tbody tr th:only-of-type {\n",
       "        vertical-align: middle;\n",
       "    }\n",
       "\n",
       "    .dataframe tbody tr th {\n",
       "        vertical-align: top;\n",
       "    }\n",
       "\n",
       "    .dataframe thead th {\n",
       "        text-align: right;\n",
       "    }\n",
       "</style>\n",
       "<table border=\"1\" class=\"dataframe\">\n",
       "  <thead>\n",
       "    <tr style=\"text-align: right;\">\n",
       "      <th></th>\n",
       "      <th>name</th>\n",
       "      <th>metric_tonnes_of_CO2</th>\n",
       "      <th>date_of_information</th>\n",
       "      <th>region</th>\n",
       "      <th>raiz_cuadrada</th>\n",
       "    </tr>\n",
       "  </thead>\n",
       "  <tbody>\n",
       "    <tr>\n",
       "      <th>0</th>\n",
       "      <td>China</td>\n",
       "      <td>1.219600e+10</td>\n",
       "      <td>2023</td>\n",
       "      <td>East and Southeast Asia</td>\n",
       "      <td>110435.501538</td>\n",
       "    </tr>\n",
       "    <tr>\n",
       "      <th>1</th>\n",
       "      <td>United States</td>\n",
       "      <td>4.795000e+09</td>\n",
       "      <td>2023</td>\n",
       "      <td>North America</td>\n",
       "      <td>69245.938509</td>\n",
       "    </tr>\n",
       "    <tr>\n",
       "      <th>2</th>\n",
       "      <td>India</td>\n",
       "      <td>2.821000e+09</td>\n",
       "      <td>2023</td>\n",
       "      <td>South Asia</td>\n",
       "      <td>53113.086900</td>\n",
       "    </tr>\n",
       "    <tr>\n",
       "      <th>3</th>\n",
       "      <td>Russia</td>\n",
       "      <td>1.844000e+09</td>\n",
       "      <td>2023</td>\n",
       "      <td>Central Asia</td>\n",
       "      <td>42941.821107</td>\n",
       "    </tr>\n",
       "    <tr>\n",
       "      <th>4</th>\n",
       "      <td>Japan</td>\n",
       "      <td>9.602300e+08</td>\n",
       "      <td>2023</td>\n",
       "      <td>East and Southeast Asia</td>\n",
       "      <td>30987.578156</td>\n",
       "    </tr>\n",
       "    <tr>\n",
       "      <th>...</th>\n",
       "      <td>...</td>\n",
       "      <td>...</td>\n",
       "      <td>...</td>\n",
       "      <td>...</td>\n",
       "      <td>...</td>\n",
       "    </tr>\n",
       "    <tr>\n",
       "      <th>211</th>\n",
       "      <td>Falkland Islands (Islas Malvinas)</td>\n",
       "      <td>3.600000e+01</td>\n",
       "      <td>2023</td>\n",
       "      <td>South America</td>\n",
       "      <td>6.000000</td>\n",
       "    </tr>\n",
       "    <tr>\n",
       "      <th>212</th>\n",
       "      <td>Montserrat</td>\n",
       "      <td>2.400000e+01</td>\n",
       "      <td>2023</td>\n",
       "      <td>Central America and the Caribbean</td>\n",
       "      <td>4.898979</td>\n",
       "    </tr>\n",
       "    <tr>\n",
       "      <th>213</th>\n",
       "      <td>Antarctica</td>\n",
       "      <td>1.500000e+01</td>\n",
       "      <td>2023</td>\n",
       "      <td>Antarctica</td>\n",
       "      <td>3.872983</td>\n",
       "    </tr>\n",
       "    <tr>\n",
       "      <th>214</th>\n",
       "      <td>Saint Helena, Ascension, and Tristan da Cunha</td>\n",
       "      <td>1.200000e+01</td>\n",
       "      <td>2023</td>\n",
       "      <td>Africa</td>\n",
       "      <td>3.464102</td>\n",
       "    </tr>\n",
       "    <tr>\n",
       "      <th>215</th>\n",
       "      <td>Niue</td>\n",
       "      <td>9.000000e+00</td>\n",
       "      <td>2023</td>\n",
       "      <td>Australia and Oceania</td>\n",
       "      <td>3.000000</td>\n",
       "    </tr>\n",
       "  </tbody>\n",
       "</table>\n",
       "<p>216 rows × 5 columns</p>\n",
       "</div>"
      ],
      "text/plain": [
       "                                              name  metric_tonnes_of_CO2  \\\n",
       "0                                            China          1.219600e+10   \n",
       "1                                    United States          4.795000e+09   \n",
       "2                                            India          2.821000e+09   \n",
       "3                                           Russia          1.844000e+09   \n",
       "4                                            Japan          9.602300e+08   \n",
       "..                                             ...                   ...   \n",
       "211              Falkland Islands (Islas Malvinas)          3.600000e+01   \n",
       "212                                     Montserrat          2.400000e+01   \n",
       "213                                     Antarctica          1.500000e+01   \n",
       "214  Saint Helena, Ascension, and Tristan da Cunha          1.200000e+01   \n",
       "215                                           Niue          9.000000e+00   \n",
       "\n",
       "     date_of_information                             region  raiz_cuadrada  \n",
       "0                   2023            East and Southeast Asia  110435.501538  \n",
       "1                   2023                      North America   69245.938509  \n",
       "2                   2023                         South Asia   53113.086900  \n",
       "3                   2023                       Central Asia   42941.821107  \n",
       "4                   2023            East and Southeast Asia   30987.578156  \n",
       "..                   ...                                ...            ...  \n",
       "211                 2023                      South America       6.000000  \n",
       "212                 2023  Central America and the Caribbean       4.898979  \n",
       "213                 2023                         Antarctica       3.872983  \n",
       "214                 2023                             Africa       3.464102  \n",
       "215                 2023              Australia and Oceania       3.000000  \n",
       "\n",
       "[216 rows x 5 columns]"
      ]
     },
     "execution_count": 22,
     "metadata": {},
     "output_type": "execute_result"
    }
   ],
   "source": [
    "import numpy as np # se llama a la librería numpy para cálculo numérico de vectores\n",
    "\n",
    "raiz_cuadrada=np.sqrt(carbon_copy.metric_tonnes_of_CO2)\n",
    "carbon_copy=carbon_copy.assign(raiz_cuadrada=raiz_cuadrada)\n",
    "carbon_copy"
   ]
  },
  {
   "cell_type": "markdown",
   "metadata": {
    "id": "VtKmnL2CZDJQ"
   },
   "source": [
    "### Task 5"
   ]
  },
  {
   "cell_type": "code",
   "execution_count": 23,
   "metadata": {
    "colab": {
     "base_uri": "https://localhost:8080/"
    },
    "id": "IKHDBFCBZEWe",
    "outputId": "63c05c26-2fb3-4435-aec0-f9b36be15974"
   },
   "outputs": [
    {
     "data": {
      "text/plain": [
       "np.float64(171564562.3412037)"
      ]
     },
     "execution_count": 23,
     "metadata": {},
     "output_type": "execute_result"
    }
   ],
   "source": [
    "# Calculo del promedio de emisiones de CO2 en todo el mundo\n",
    "avrg=carbon_copy.metric_tonnes_of_CO2.mean()\n",
    "avrg"
   ]
  },
  {
   "cell_type": "code",
   "execution_count": 24,
   "metadata": {
    "colab": {
     "base_uri": "https://localhost:8080/",
     "height": 632
    },
    "id": "9pxp8GlCpmeX",
    "outputId": "e3fe1ea1-511f-4835-c5ff-1647677ffac9"
   },
   "outputs": [
    {
     "data": {
      "text/html": [
       "<div>\n",
       "<style scoped>\n",
       "    .dataframe tbody tr th:only-of-type {\n",
       "        vertical-align: middle;\n",
       "    }\n",
       "\n",
       "    .dataframe tbody tr th {\n",
       "        vertical-align: top;\n",
       "    }\n",
       "\n",
       "    .dataframe thead th {\n",
       "        text-align: right;\n",
       "    }\n",
       "</style>\n",
       "<table border=\"1\" class=\"dataframe\">\n",
       "  <thead>\n",
       "    <tr style=\"text-align: right;\">\n",
       "      <th></th>\n",
       "      <th>name</th>\n",
       "      <th>metric_tonnes_of_CO2</th>\n",
       "      <th>date_of_information</th>\n",
       "      <th>region</th>\n",
       "      <th>raiz_cuadrada</th>\n",
       "      <th>diferencia</th>\n",
       "    </tr>\n",
       "  </thead>\n",
       "  <tbody>\n",
       "    <tr>\n",
       "      <th>0</th>\n",
       "      <td>China</td>\n",
       "      <td>1.219600e+10</td>\n",
       "      <td>2023</td>\n",
       "      <td>East and Southeast Asia</td>\n",
       "      <td>110435.501538</td>\n",
       "      <td>1.202444e+10</td>\n",
       "    </tr>\n",
       "    <tr>\n",
       "      <th>1</th>\n",
       "      <td>United States</td>\n",
       "      <td>4.795000e+09</td>\n",
       "      <td>2023</td>\n",
       "      <td>North America</td>\n",
       "      <td>69245.938509</td>\n",
       "      <td>4.623435e+09</td>\n",
       "    </tr>\n",
       "    <tr>\n",
       "      <th>2</th>\n",
       "      <td>India</td>\n",
       "      <td>2.821000e+09</td>\n",
       "      <td>2023</td>\n",
       "      <td>South Asia</td>\n",
       "      <td>53113.086900</td>\n",
       "      <td>2.649435e+09</td>\n",
       "    </tr>\n",
       "    <tr>\n",
       "      <th>3</th>\n",
       "      <td>Russia</td>\n",
       "      <td>1.844000e+09</td>\n",
       "      <td>2023</td>\n",
       "      <td>Central Asia</td>\n",
       "      <td>42941.821107</td>\n",
       "      <td>1.672435e+09</td>\n",
       "    </tr>\n",
       "    <tr>\n",
       "      <th>4</th>\n",
       "      <td>Japan</td>\n",
       "      <td>9.602300e+08</td>\n",
       "      <td>2023</td>\n",
       "      <td>East and Southeast Asia</td>\n",
       "      <td>30987.578156</td>\n",
       "      <td>7.886654e+08</td>\n",
       "    </tr>\n",
       "    <tr>\n",
       "      <th>...</th>\n",
       "      <td>...</td>\n",
       "      <td>...</td>\n",
       "      <td>...</td>\n",
       "      <td>...</td>\n",
       "      <td>...</td>\n",
       "      <td>...</td>\n",
       "    </tr>\n",
       "    <tr>\n",
       "      <th>211</th>\n",
       "      <td>Falkland Islands (Islas Malvinas)</td>\n",
       "      <td>3.600000e+01</td>\n",
       "      <td>2023</td>\n",
       "      <td>South America</td>\n",
       "      <td>6.000000</td>\n",
       "      <td>-1.715645e+08</td>\n",
       "    </tr>\n",
       "    <tr>\n",
       "      <th>212</th>\n",
       "      <td>Montserrat</td>\n",
       "      <td>2.400000e+01</td>\n",
       "      <td>2023</td>\n",
       "      <td>Central America and the Caribbean</td>\n",
       "      <td>4.898979</td>\n",
       "      <td>-1.715645e+08</td>\n",
       "    </tr>\n",
       "    <tr>\n",
       "      <th>213</th>\n",
       "      <td>Antarctica</td>\n",
       "      <td>1.500000e+01</td>\n",
       "      <td>2023</td>\n",
       "      <td>Antarctica</td>\n",
       "      <td>3.872983</td>\n",
       "      <td>-1.715645e+08</td>\n",
       "    </tr>\n",
       "    <tr>\n",
       "      <th>214</th>\n",
       "      <td>Saint Helena, Ascension, and Tristan da Cunha</td>\n",
       "      <td>1.200000e+01</td>\n",
       "      <td>2023</td>\n",
       "      <td>Africa</td>\n",
       "      <td>3.464102</td>\n",
       "      <td>-1.715646e+08</td>\n",
       "    </tr>\n",
       "    <tr>\n",
       "      <th>215</th>\n",
       "      <td>Niue</td>\n",
       "      <td>9.000000e+00</td>\n",
       "      <td>2023</td>\n",
       "      <td>Australia and Oceania</td>\n",
       "      <td>3.000000</td>\n",
       "      <td>-1.715646e+08</td>\n",
       "    </tr>\n",
       "  </tbody>\n",
       "</table>\n",
       "<p>216 rows × 6 columns</p>\n",
       "</div>"
      ],
      "text/plain": [
       "                                              name  metric_tonnes_of_CO2  \\\n",
       "0                                            China          1.219600e+10   \n",
       "1                                    United States          4.795000e+09   \n",
       "2                                            India          2.821000e+09   \n",
       "3                                           Russia          1.844000e+09   \n",
       "4                                            Japan          9.602300e+08   \n",
       "..                                             ...                   ...   \n",
       "211              Falkland Islands (Islas Malvinas)          3.600000e+01   \n",
       "212                                     Montserrat          2.400000e+01   \n",
       "213                                     Antarctica          1.500000e+01   \n",
       "214  Saint Helena, Ascension, and Tristan da Cunha          1.200000e+01   \n",
       "215                                           Niue          9.000000e+00   \n",
       "\n",
       "     date_of_information                             region  raiz_cuadrada  \\\n",
       "0                   2023            East and Southeast Asia  110435.501538   \n",
       "1                   2023                      North America   69245.938509   \n",
       "2                   2023                         South Asia   53113.086900   \n",
       "3                   2023                       Central Asia   42941.821107   \n",
       "4                   2023            East and Southeast Asia   30987.578156   \n",
       "..                   ...                                ...            ...   \n",
       "211                 2023                      South America       6.000000   \n",
       "212                 2023  Central America and the Caribbean       4.898979   \n",
       "213                 2023                         Antarctica       3.872983   \n",
       "214                 2023                             Africa       3.464102   \n",
       "215                 2023              Australia and Oceania       3.000000   \n",
       "\n",
       "       diferencia  \n",
       "0    1.202444e+10  \n",
       "1    4.623435e+09  \n",
       "2    2.649435e+09  \n",
       "3    1.672435e+09  \n",
       "4    7.886654e+08  \n",
       "..            ...  \n",
       "211 -1.715645e+08  \n",
       "212 -1.715645e+08  \n",
       "213 -1.715645e+08  \n",
       "214 -1.715646e+08  \n",
       "215 -1.715646e+08  \n",
       "\n",
       "[216 rows x 6 columns]"
      ]
     },
     "execution_count": 24,
     "metadata": {},
     "output_type": "execute_result"
    }
   ],
   "source": [
    "# Se crea una lista (diferencia) que será la resta entre cada valor de la columna de emision de CO2 y\n",
    "# el promedio\n",
    "diferencia=carbon_copy.metric_tonnes_of_CO2-avrg\n",
    "carbon_copy=carbon_copy.assign(diferencia=diferencia)\n",
    "carbon_copy"
   ]
  },
  {
   "cell_type": "code",
   "execution_count": 25,
   "metadata": {
    "id": "j1LSym9Dq9C2"
   },
   "outputs": [],
   "source": [
    "carbon_copy.to_csv(\"carbon_copy.csv\",index=False)"
   ]
  }
 ],
 "metadata": {
  "anaconda-cloud": {
   "attach-environment": true,
   "summary": "test"
  },
  "colab": {
   "provenance": []
  },
  "hide_input": false,
  "kernelspec": {
   "display_name": "Python 3 (ipykernel)",
   "language": "python",
   "name": "python3"
  },
  "language_info": {
   "codemirror_mode": {
    "name": "ipython",
    "version": 3
   },
   "file_extension": ".py",
   "mimetype": "text/x-python",
   "name": "python",
   "nbconvert_exporter": "python",
   "pygments_lexer": "ipython3",
   "version": "3.11.11"
  },
  "toc-autonumbering": false
 },
 "nbformat": 4,
 "nbformat_minor": 4
}
